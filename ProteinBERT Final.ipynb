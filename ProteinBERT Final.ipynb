{
 "cells": [
  {
   "cell_type": "code",
   "execution_count": null,
   "metadata": {},
   "outputs": [],
   "source": [
    "import os\n",
    "\n",
    "import pandas as pd\n",
    "from IPython.display import display\n",
    "\n",
    "from tensorflow import keras\n",
    "\n",
    "from sklearn.model_selection import train_test_split\n",
    "\n",
    "from proteinbert import OutputType, OutputSpec, FinetuningModelGenerator, load_pretrained_model, finetune, evaluate_by_len\n",
    "from proteinbert.conv_and_global_attention_model import get_model_with_hidden_layers_as_outputs"
   ]
  },
  {
   "cell_type": "code",
   "execution_count": null,
   "metadata": {},
   "outputs": [],
   "source": [
    "# Step 1: Load your dataset\n",
    "PROTEIN_ECOLI = 'protein_ecoli.csv'\n",
    "\n",
    "# Load the dataset\n",
    "protein_ecoli_data = pd.read_csv(PROTEIN_ECOLI).dropna().drop_duplicates()"
   ]
  },
  {
   "cell_type": "code",
   "execution_count": null,
   "metadata": {},
   "outputs": [],
   "source": [
    "# Step 3: Ensure every class is present in both train and validation sets\n",
    "# Split the duplicated train_set into train and validation sets with stratification\n",
    "\n",
    "train_set, temp_set = train_test_split(protein_ecoli_data, stratify = protein_ecoli_data['label'], test_size = 0.3, random_state = 42)\n",
    "test_set, valid_set = train_test_split(temp_set, stratify = temp_set['label'], test_size = 0.5, random_state = 42)\n",
    "\n",
    "\n",
    "print(f'{len(train_set)} training set records, {len(valid_set)} validation set records, {len(test_set)} test set records.')"
   ]
  },
  {
   "cell_type": "code",
   "execution_count": null,
   "metadata": {},
   "outputs": [],
   "source": [
    "# Extract unique labels from your dataset\n",
    "all_labels = set(set(train_set['label']).union(set(valid_set['label'])).union(set(test_set['label'])))\n",
    "\n",
    "# Convert the set of all labels to a sorted list\n",
    "UNIQUE_LABELS = sorted(list(all_labels))\n",
    "\n",
    "# A local (non-global) binary output\n",
    "OUTPUT_TYPE = OutputType(False, 'categorical')\n",
    "OUTPUT_SPEC = OutputSpec(OUTPUT_TYPE, UNIQUE_LABELS)"
   ]
  },
  {
   "cell_type": "code",
   "execution_count": null,
   "metadata": {},
   "outputs": [],
   "source": [
    "# Step 3: Load Pre-trained ProteinBERT Model\n",
    "pretrained_model_generator, input_encoder = load_pretrained_model()\n",
    "\n",
    "# Step 4: Create the Fine-tuning Model\n",
    "model_generator = FinetuningModelGenerator(pretrained_model_generator, OUTPUT_SPEC, \n",
    "    pretraining_model_manipulation_function=get_model_with_hidden_layers_as_outputs, dropout_rate=0.5)\n",
    "\n",
    "# Step 5: Set up Callbacks for Training\n",
    "training_callbacks = [\n",
    "    keras.callbacks.ReduceLROnPlateau(patience = 1, factor = 0.25, min_lr = 1e-05, verbose = 1),\n",
    "    keras.callbacks.EarlyStopping(patience = 2, restore_best_weights = True),\n",
    "]\n",
    "\n",
    "# Step 6: Fine-tune the Model\n",
    "finetune(model_generator, input_encoder, OUTPUT_SPEC, train_set['seq'], train_set['label'], valid_set['seq'], valid_set['label'], \n",
    "    seq_len=1024, batch_size=32, max_epochs_per_stage=1, lr=1e-04, begin_with_frozen_pretrained_layers=True, \n",
    "    lr_with_frozen_pretrained_layers=1e-02, n_final_epochs=1, final_seq_len=2048, final_lr=1e-05, callbacks=training_callbacks)\n",
    "\n",
    "# Step 7: Evaluate the Model on the Test Set\n",
    "results, confusion_matrix = evaluate_by_len(model_generator, input_encoder, OUTPUT_SPEC, test_set['seq'], test_set['label'], start_seq_len=1024, start_batch_size=32)\n",
    "\n",
    "print('Test-set performance:')\n",
    "print(results)\n",
    "print('Confusion matrix:')\n",
    "print(confusion_matrix)"
   ]
  }
 ],
 "metadata": {
  "language_info": {
   "name": "python"
  }
 },
 "nbformat": 4,
 "nbformat_minor": 2
}
